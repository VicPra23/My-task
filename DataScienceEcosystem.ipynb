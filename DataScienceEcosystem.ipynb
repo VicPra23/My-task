{
 "cells": [
  {
   "cell_type": "markdown",
   "id": "78f2a03a-aa72-494b-a103-e57cdd057a60",
   "metadata": {},
   "source": [
    "# Data Science Tools and Ecosystem"
   ]
  },
  {
   "cell_type": "code",
   "execution_count": 2,
   "id": "c4a0f18e-eef6-4d6c-a1a2-efda02a0064e",
   "metadata": {},
   "outputs": [
    {
     "name": "stdout",
     "output_type": "stream",
     "text": [
      "In this notebook, Data Science Tools and Ecosystem are summarized.\n"
     ]
    }
   ],
   "source": [
    "print (\"In this notebook, Data Science Tools and Ecosystem are summarized.\")"
   ]
  },
  {
   "cell_type": "markdown",
   "id": "950aee5f-2c2d-4d91-adc4-4c0b25d629ff",
   "metadata": {},
   "source": [
    "**Objetives:**\n",
    "- Data science tools\n",
    "- Open source\n",
    "- Commercial tools for data science"
   ]
  },
  {
   "cell_type": "code",
   "execution_count": null,
   "id": "335b8531-8095-40d3-8c50-8d623bba957b",
   "metadata": {},
   "outputs": [],
   "source": [
    "Some of the popular languages that Data Scientists use are:\n",
    "\n",
    "1. Python\n",
    "2. SQL\n",
    "3. R"
   ]
  },
  {
   "cell_type": "markdown",
   "id": "ecd343b9-7b6f-4105-886e-dfff8ce01ba7",
   "metadata": {},
   "source": [
    "Some of the commonly used libraries used by Data Scientists include:\n",
    "\n",
    "- NumPy\r",
    "- Matplotli\n",
    "- Pandas"
   ]
  },
  {
   "cell_type": "markdown",
   "id": "183a718f-9da3-45c0-b369-8f21c5454b99",
   "metadata": {},
   "source": [
    "Data Science Tools\n",
    "\n",
    "| Data Science Tools |\n",
    "| ------------------ |\n",
    "| Apache Spark |\n",
    "| Jupyter Notebook |\n",
    "| Matlab |    "
   ]
  },
  {
   "cell_type": "markdown",
   "id": "d51a68ac-2f8c-49f1-b6dd-6eb0844c2044",
   "metadata": {},
   "source": [
    "### Below are a few examples of evaluating arithmetic expressions in Python"
   ]
  },
  {
   "cell_type": "code",
   "execution_count": 28,
   "id": "5671085f-2a6a-4399-8168-e91efe793f39",
   "metadata": {},
   "outputs": [
    {
     "name": "stdout",
     "output_type": "stream",
     "text": [
      "This a simple arithmetic expression to mutiply then add integers\n"
     ]
    },
    {
     "data": {
      "text/plain": [
       "17"
      ]
     },
     "execution_count": 28,
     "metadata": {},
     "output_type": "execute_result"
    }
   ],
   "source": [
    "print(\"This a simple arithmetic expression to mutiply then add integers\")\n",
    "\n",
    "(3*4)+5"
   ]
  },
  {
   "cell_type": "code",
   "execution_count": 30,
   "id": "657b701b-f0d6-4993-b8c9-4ae85168d14a",
   "metadata": {},
   "outputs": [
    {
     "name": "stdout",
     "output_type": "stream",
     "text": [
      "This will convert 200 minutes to hours by diving by 60\n"
     ]
    },
    {
     "data": {
      "text/plain": [
       "3.3333333333333335"
      ]
     },
     "execution_count": 30,
     "metadata": {},
     "output_type": "execute_result"
    }
   ],
   "source": [
    "print(\"This will convert 200 minutes to hours by diving by 60\")\n",
    "\n",
    "200/60"
   ]
  },
  {
   "cell_type": "markdown",
   "id": "bcc14501-25db-474e-a1b6-cfc7011cb028",
   "metadata": {},
   "source": [
    "## Author ## \n",
    "Victor Prado"
   ]
  },
  {
   "cell_type": "code",
   "execution_count": null,
   "id": "54bda225-cb70-4a6d-876f-cb1f78ae17a7",
   "metadata": {},
   "outputs": [],
   "source": []
  }
 ],
 "metadata": {
  "kernelspec": {
   "display_name": "Python 3 (ipykernel)",
   "language": "python",
   "name": "python3"
  },
  "language_info": {
   "codemirror_mode": {
    "name": "ipython",
    "version": 3
   },
   "file_extension": ".py",
   "mimetype": "text/x-python",
   "name": "python",
   "nbconvert_exporter": "python",
   "pygments_lexer": "ipython3",
   "version": "3.12.4"
  }
 },
 "nbformat": 4,
 "nbformat_minor": 5
}
